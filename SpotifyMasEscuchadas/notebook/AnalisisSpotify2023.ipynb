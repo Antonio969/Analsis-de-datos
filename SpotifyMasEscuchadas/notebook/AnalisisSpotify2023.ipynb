{
 "cells": [
  {
   "cell_type": "markdown",
   "id": "969c08bf-d566-413f-9217-4a026d18ffff",
   "metadata": {},
   "source": [
    "# Canciones mas escuchadas Spotify 2023\n"
   ]
  },
  {
   "cell_type": "markdown",
   "id": "47bc9894",
   "metadata": {},
   "source": [
    "# 1.- Objetivos del analisis\n",
    "\n",
    "- Análisis musical: explore patrones en funciones de audio para comprender tendencias y preferencias en canciones populares.\n",
    "- Comparación de plataformas: compare la popularidad de la canción en diferentes plataformas de música.\n",
    "- Impacto del artista: analice cómo la participación y los atributos del artista se relacionan con el éxito de una canción.\n",
    "- Tendencias temporales: identifique cualquier cambio en los atributos y preferencias musicales a lo largo del tiempo.\n",
    "- Presencia multiplataforma: investigue cómo funcionan las canciones en diferentes servicios de transmisión."
   ]
  },
  {
   "cell_type": "markdown",
   "id": "4d1e0875",
   "metadata": {},
   "source": [
    "# 1.1.- Sobre el conjunto de datos\n",
    "Este conjunto de datos contiene una lista completa de las canciones más famosas de 2023 enumeradas en Spotify. El conjunto de datos ofrece una gran cantidad de características más allá de las que normalmente están disponibles en conjuntos de datos similares. Proporciona información sobre los atributos, la popularidad y la presencia de cada canción en varias plataformas de música. El conjunto de datos incluye información como el nombre de la pista, el nombre del artista, la fecha de lanzamiento, las listas de reproducción y gráficos de Spotify, estadísticas de transmisión, presencia de Apple Music, presencia de Deezer, gráficos de Shazam y varias funciones de audio.\n",
    "\n",
    "- track_name: Name of the song\n",
    "- artist(s)_name: Name of the artist(s) of the song\n",
    "- artist_count: Number of artists contributing to the song\n",
    "- released_year: Year when the song was released\n",
    "- released_month: Month when the song was released\n",
    "- released_day: Day of the month when the song was released\n",
    "- in_spotify_playlists: Number of Spotify playlists the song is included in\n",
    "- in_spotify_charts: Presence and rank of the song on Spotify charts\n",
    "- streams: Total number of streams on Spotify\n",
    "- in_apple_playlists: Number of Apple Music playlists the song is included in\n",
    "- in_apple_charts: Presence and rank of the song on Apple Music charts\n",
    "- in_deezer_playlists: Number of Deezer playlists the song is included in\n",
    "- in_deezer_charts: Presence and rank of the song on Deezer charts\n",
    "- in_shazam_charts: Presence and rank of the song on Shazam charts\n",
    "- bpm: Beats per minute, a measure of song tempo\n",
    "- key: Key of the song\n",
    "- mode: Mode of the song (major or minor)\n",
    "- danceability_%: Percentage indicating how suitable the song is for dancing\n",
    "- valence_%: Positivity of the song's musical content\n",
    "- energy_%: Perceived energy level of the song\n",
    "- acousticness_%: Amount of acoustic sound in the song\n",
    "- instrumentalness_%: Amount of instrumental content in the song\n",
    "- liveness_%: Presence of live performance elements\n",
    "- speechiness_%: Amount of spoken words in the song"
   ]
  },
  {
   "cell_type": "markdown",
   "id": "4e409d29",
   "metadata": {},
   "source": [
    "# 2.- Una primera mirada"
   ]
  },
  {
   "cell_type": "code",
   "execution_count": 2,
   "id": "418296e4-1987-47c5-bd9c-2f4e9432f39a",
   "metadata": {},
   "outputs": [],
   "source": [
    "# Importamos las librerias \n",
    "import pandas as pd\n",
    "import numpy as np\n",
    "import matplotlib.pyplot as plt\n",
    "import seaborn as sns"
   ]
  },
  {
   "cell_type": "code",
   "execution_count": 3,
   "id": "17d67a84-bf91-40af-a457-3b24050c3bc7",
   "metadata": {},
   "outputs": [],
   "source": [
    "# Lectura\n",
    "data = pd.read_csv('./../data/spotify2023.csv', encoding='latin-1')"
   ]
  },
  {
   "cell_type": "code",
   "execution_count": 4,
   "id": "1fc9f01e-3a9d-4eb3-ac43-dc851956e027",
   "metadata": {},
   "outputs": [
    {
     "name": "stdout",
     "output_type": "stream",
     "text": [
      "(953, 24)\n"
     ]
    },
    {
     "data": {
      "text/html": [
       "<div>\n",
       "<style scoped>\n",
       "    .dataframe tbody tr th:only-of-type {\n",
       "        vertical-align: middle;\n",
       "    }\n",
       "\n",
       "    .dataframe tbody tr th {\n",
       "        vertical-align: top;\n",
       "    }\n",
       "\n",
       "    .dataframe thead th {\n",
       "        text-align: right;\n",
       "    }\n",
       "</style>\n",
       "<table border=\"1\" class=\"dataframe\">\n",
       "  <thead>\n",
       "    <tr style=\"text-align: right;\">\n",
       "      <th></th>\n",
       "      <th>track_name</th>\n",
       "      <th>artist(s)_name</th>\n",
       "      <th>artist_count</th>\n",
       "      <th>released_year</th>\n",
       "      <th>released_month</th>\n",
       "      <th>released_day</th>\n",
       "      <th>in_spotify_playlists</th>\n",
       "      <th>in_spotify_charts</th>\n",
       "      <th>streams</th>\n",
       "      <th>in_apple_playlists</th>\n",
       "      <th>...</th>\n",
       "      <th>bpm</th>\n",
       "      <th>key</th>\n",
       "      <th>mode</th>\n",
       "      <th>danceability_%</th>\n",
       "      <th>valence_%</th>\n",
       "      <th>energy_%</th>\n",
       "      <th>acousticness_%</th>\n",
       "      <th>instrumentalness_%</th>\n",
       "      <th>liveness_%</th>\n",
       "      <th>speechiness_%</th>\n",
       "    </tr>\n",
       "  </thead>\n",
       "  <tbody>\n",
       "    <tr>\n",
       "      <th>0</th>\n",
       "      <td>Seven (feat. Latto) (Explicit Ver.)</td>\n",
       "      <td>Latto, Jung Kook</td>\n",
       "      <td>2</td>\n",
       "      <td>2023</td>\n",
       "      <td>7</td>\n",
       "      <td>14</td>\n",
       "      <td>553</td>\n",
       "      <td>147</td>\n",
       "      <td>141381703</td>\n",
       "      <td>43</td>\n",
       "      <td>...</td>\n",
       "      <td>125</td>\n",
       "      <td>B</td>\n",
       "      <td>Major</td>\n",
       "      <td>80</td>\n",
       "      <td>89</td>\n",
       "      <td>83</td>\n",
       "      <td>31</td>\n",
       "      <td>0</td>\n",
       "      <td>8</td>\n",
       "      <td>4</td>\n",
       "    </tr>\n",
       "    <tr>\n",
       "      <th>1</th>\n",
       "      <td>LALA</td>\n",
       "      <td>Myke Towers</td>\n",
       "      <td>1</td>\n",
       "      <td>2023</td>\n",
       "      <td>3</td>\n",
       "      <td>23</td>\n",
       "      <td>1474</td>\n",
       "      <td>48</td>\n",
       "      <td>133716286</td>\n",
       "      <td>48</td>\n",
       "      <td>...</td>\n",
       "      <td>92</td>\n",
       "      <td>C#</td>\n",
       "      <td>Major</td>\n",
       "      <td>71</td>\n",
       "      <td>61</td>\n",
       "      <td>74</td>\n",
       "      <td>7</td>\n",
       "      <td>0</td>\n",
       "      <td>10</td>\n",
       "      <td>4</td>\n",
       "    </tr>\n",
       "    <tr>\n",
       "      <th>2</th>\n",
       "      <td>vampire</td>\n",
       "      <td>Olivia Rodrigo</td>\n",
       "      <td>1</td>\n",
       "      <td>2023</td>\n",
       "      <td>6</td>\n",
       "      <td>30</td>\n",
       "      <td>1397</td>\n",
       "      <td>113</td>\n",
       "      <td>140003974</td>\n",
       "      <td>94</td>\n",
       "      <td>...</td>\n",
       "      <td>138</td>\n",
       "      <td>F</td>\n",
       "      <td>Major</td>\n",
       "      <td>51</td>\n",
       "      <td>32</td>\n",
       "      <td>53</td>\n",
       "      <td>17</td>\n",
       "      <td>0</td>\n",
       "      <td>31</td>\n",
       "      <td>6</td>\n",
       "    </tr>\n",
       "    <tr>\n",
       "      <th>3</th>\n",
       "      <td>Cruel Summer</td>\n",
       "      <td>Taylor Swift</td>\n",
       "      <td>1</td>\n",
       "      <td>2019</td>\n",
       "      <td>8</td>\n",
       "      <td>23</td>\n",
       "      <td>7858</td>\n",
       "      <td>100</td>\n",
       "      <td>800840817</td>\n",
       "      <td>116</td>\n",
       "      <td>...</td>\n",
       "      <td>170</td>\n",
       "      <td>A</td>\n",
       "      <td>Major</td>\n",
       "      <td>55</td>\n",
       "      <td>58</td>\n",
       "      <td>72</td>\n",
       "      <td>11</td>\n",
       "      <td>0</td>\n",
       "      <td>11</td>\n",
       "      <td>15</td>\n",
       "    </tr>\n",
       "    <tr>\n",
       "      <th>4</th>\n",
       "      <td>WHERE SHE GOES</td>\n",
       "      <td>Bad Bunny</td>\n",
       "      <td>1</td>\n",
       "      <td>2023</td>\n",
       "      <td>5</td>\n",
       "      <td>18</td>\n",
       "      <td>3133</td>\n",
       "      <td>50</td>\n",
       "      <td>303236322</td>\n",
       "      <td>84</td>\n",
       "      <td>...</td>\n",
       "      <td>144</td>\n",
       "      <td>A</td>\n",
       "      <td>Minor</td>\n",
       "      <td>65</td>\n",
       "      <td>23</td>\n",
       "      <td>80</td>\n",
       "      <td>14</td>\n",
       "      <td>63</td>\n",
       "      <td>11</td>\n",
       "      <td>6</td>\n",
       "    </tr>\n",
       "  </tbody>\n",
       "</table>\n",
       "<p>5 rows × 24 columns</p>\n",
       "</div>"
      ],
      "text/plain": [
       "                            track_name    artist(s)_name  artist_count   \n",
       "0  Seven (feat. Latto) (Explicit Ver.)  Latto, Jung Kook             2  \\\n",
       "1                                 LALA       Myke Towers             1   \n",
       "2                              vampire    Olivia Rodrigo             1   \n",
       "3                         Cruel Summer      Taylor Swift             1   \n",
       "4                       WHERE SHE GOES         Bad Bunny             1   \n",
       "\n",
       "   released_year  released_month  released_day  in_spotify_playlists   \n",
       "0           2023               7            14                   553  \\\n",
       "1           2023               3            23                  1474   \n",
       "2           2023               6            30                  1397   \n",
       "3           2019               8            23                  7858   \n",
       "4           2023               5            18                  3133   \n",
       "\n",
       "   in_spotify_charts    streams  in_apple_playlists  ...  bpm key   mode   \n",
       "0                147  141381703                  43  ...  125   B  Major  \\\n",
       "1                 48  133716286                  48  ...   92  C#  Major   \n",
       "2                113  140003974                  94  ...  138   F  Major   \n",
       "3                100  800840817                 116  ...  170   A  Major   \n",
       "4                 50  303236322                  84  ...  144   A  Minor   \n",
       "\n",
       "  danceability_%  valence_% energy_% acousticness_%  instrumentalness_%   \n",
       "0             80         89       83             31                   0  \\\n",
       "1             71         61       74              7                   0   \n",
       "2             51         32       53             17                   0   \n",
       "3             55         58       72             11                   0   \n",
       "4             65         23       80             14                  63   \n",
       "\n",
       "   liveness_%  speechiness_%  \n",
       "0           8              4  \n",
       "1          10              4  \n",
       "2          31              6  \n",
       "3          11             15  \n",
       "4          11              6  \n",
       "\n",
       "[5 rows x 24 columns]"
      ]
     },
     "execution_count": 4,
     "metadata": {},
     "output_type": "execute_result"
    }
   ],
   "source": [
    "print(data.shape)\n",
    "data.head()"
   ]
  },
  {
   "cell_type": "code",
   "execution_count": 4,
   "id": "de183922-960b-458c-9715-ca1e9b486b6e",
   "metadata": {},
   "outputs": [
    {
     "name": "stdout",
     "output_type": "stream",
     "text": [
      "<class 'pandas.core.frame.DataFrame'>\n",
      "RangeIndex: 953 entries, 0 to 952\n",
      "Data columns (total 24 columns):\n",
      " #   Column                Non-Null Count  Dtype \n",
      "---  ------                --------------  ----- \n",
      " 0   track_name            953 non-null    object\n",
      " 1   artist(s)_name        953 non-null    object\n",
      " 2   artist_count          953 non-null    int64 \n",
      " 3   released_year         953 non-null    int64 \n",
      " 4   released_month        953 non-null    int64 \n",
      " 5   released_day          953 non-null    int64 \n",
      " 6   in_spotify_playlists  953 non-null    int64 \n",
      " 7   in_spotify_charts     953 non-null    int64 \n",
      " 8   streams               953 non-null    object\n",
      " 9   in_apple_playlists    953 non-null    int64 \n",
      " 10  in_apple_charts       953 non-null    int64 \n",
      " 11  in_deezer_playlists   953 non-null    object\n",
      " 12  in_deezer_charts      953 non-null    int64 \n",
      " 13  in_shazam_charts      903 non-null    object\n",
      " 14  bpm                   953 non-null    int64 \n",
      " 15  key                   858 non-null    object\n",
      " 16  mode                  953 non-null    object\n",
      " 17  danceability_%        953 non-null    int64 \n",
      " 18  valence_%             953 non-null    int64 \n",
      " 19  energy_%              953 non-null    int64 \n",
      " 20  acousticness_%        953 non-null    int64 \n",
      " 21  instrumentalness_%    953 non-null    int64 \n",
      " 22  liveness_%            953 non-null    int64 \n",
      " 23  speechiness_%         953 non-null    int64 \n",
      "dtypes: int64(17), object(7)\n",
      "memory usage: 178.8+ KB\n"
     ]
    }
   ],
   "source": [
    "# Vemos las variables categoricas y numericas\n",
    "data.info()"
   ]
  },
  {
   "cell_type": "markdown",
   "id": "55d81b9f",
   "metadata": {},
   "source": [
    "# 3.- Top 10 artistas mas escuchados"
   ]
  },
  {
   "cell_type": "code",
   "execution_count": 5,
   "id": "4147bb3d-0449-4d03-ac7c-62e1864dc25f",
   "metadata": {},
   "outputs": [
    {
     "data": {
      "image/png": "[encoded data removed]",
      "text/plain": [
       "<Figure size 1200x600 with 1 Axes>"
      ]
     },
     "metadata": {},
     "output_type": "display_data"
    }
   ],
   "source": [
    "# A la columna streams la convertimos en entero y eliminamos valores incorrectos\n",
    "data['streams'] = pd.to_numeric(data['streams'], errors='coerce')\n",
    "# A la columna streams le adicionamos a los elementos eliminados elementos vacios\n",
    "data['streams'] = data['streams'].replace([np.inf, -np.inf], np.nan)\n",
    "# Creamos una tabla con el nombre de los artistas y el numero de streams\n",
    "artist_streams = data.groupby('artist(s)_name')['streams'].sum() \n",
    "# Ordenar los streams de mayor a menor\n",
    "artist_streams = artist_streams.sort_values(ascending=False) \n",
    "\n",
    "top_n = 10\n",
    "top_artists = artist_streams.head(top_n)\n",
    "\n",
    "plt.figure(figsize=(12, 6))\n",
    "top_artists.plot(kind='bar', color='skyblue')\n",
    "plt.xlabel('Artist')\n",
    "plt.ylabel('Total Stream Count')\n",
    "plt.title(f'Top {top_n} Most Streamed Artists')\n",
    "plt.xticks(rotation=45)\n",
    "plt.grid(axis='y', linestyle='--', alpha=0.7)\n",
    "plt.tight_layout()\n",
    "\n",
    "plt.show()\n"
   ]
  },
  {
   "cell_type": "code",
   "execution_count": 6,
   "id": "0babb1c9-0d12-42d0-8980-67102df1d517",
   "metadata": {},
   "outputs": [
    {
     "name": "stdout",
     "output_type": "stream",
     "text": [
      "<class 'pandas.core.frame.DataFrame'>\n",
      "RangeIndex: 953 entries, 0 to 952\n",
      "Data columns (total 24 columns):\n",
      " #   Column                Non-Null Count  Dtype  \n",
      "---  ------                --------------  -----  \n",
      " 0   track_name            953 non-null    object \n",
      " 1   artist(s)_name        953 non-null    object \n",
      " 2   artist_count          953 non-null    int64  \n",
      " 3   released_year         953 non-null    int64  \n",
      " 4   released_month        953 non-null    int64  \n",
      " 5   released_day          953 non-null    int64  \n",
      " 6   in_spotify_playlists  953 non-null    int64  \n",
      " 7   in_spotify_charts     953 non-null    int64  \n",
      " 8   streams               952 non-null    float64\n",
      " 9   in_apple_playlists    953 non-null    int64  \n",
      " 10  in_apple_charts       953 non-null    int64  \n",
      " 11  in_deezer_playlists   953 non-null    object \n",
      " 12  in_deezer_charts      953 non-null    int64  \n",
      " 13  in_shazam_charts      903 non-null    object \n",
      " 14  bpm                   953 non-null    int64  \n",
      " 15  key                   858 non-null    object \n",
      " 16  mode                  953 non-null    object \n",
      " 17  danceability_%        953 non-null    int64  \n",
      " 18  valence_%             953 non-null    int64  \n",
      " 19  energy_%              953 non-null    int64  \n",
      " 20  acousticness_%        953 non-null    int64  \n",
      " 21  instrumentalness_%    953 non-null    int64  \n",
      " 22  liveness_%            953 non-null    int64  \n",
      " 23  speechiness_%         953 non-null    int64  \n",
      "dtypes: float64(1), int64(17), object(6)\n",
      "memory usage: 178.8+ KB\n"
     ]
    }
   ],
   "source": [
    "data.info()"
   ]
  },
  {
   "cell_type": "code",
   "execution_count": null,
   "id": "cc875cb7-9d5b-497a-aa05-ccd3d42f42a9",
   "metadata": {},
   "outputs": [
    {
     "data": {
      "text/html": [
       "<div>\n",
       "<style scoped>\n",
       "    .dataframe tbody tr th:only-of-type {\n",
       "        vertical-align: middle;\n",
       "    }\n",
       "\n",
       "    .dataframe tbody tr th {\n",
       "        vertical-align: top;\n",
       "    }\n",
       "\n",
       "    .dataframe thead th {\n",
       "        text-align: right;\n",
       "    }\n",
       "</style>\n",
       "<table border=\"1\" class=\"dataframe\">\n",
       "  <thead>\n",
       "    <tr style=\"text-align: right;\">\n",
       "      <th></th>\n",
       "      <th>track_name</th>\n",
       "      <th>artist(s)_name</th>\n",
       "      <th>artist_count</th>\n",
       "      <th>released_year</th>\n",
       "      <th>released_month</th>\n",
       "      <th>released_day</th>\n",
       "      <th>in_spotify_playlists</th>\n",
       "      <th>in_spotify_charts</th>\n",
       "      <th>streams</th>\n",
       "      <th>in_apple_playlists</th>\n",
       "      <th>...</th>\n",
       "      <th>key</th>\n",
       "      <th>mode</th>\n",
       "      <th>danceability_%</th>\n",
       "      <th>valence_%</th>\n",
       "      <th>energy_%</th>\n",
       "      <th>acousticness_%</th>\n",
       "      <th>instrumentalness_%</th>\n",
       "      <th>liveness_%</th>\n",
       "      <th>speechiness_%</th>\n",
       "      <th>Reproducciones</th>\n",
       "    </tr>\n",
       "  </thead>\n",
       "  <tbody>\n",
       "    <tr>\n",
       "      <th>574</th>\n",
       "      <td>Love Grows (Where My Rosemary Goes)</td>\n",
       "      <td>Edison Lighthouse</td>\n",
       "      <td>1</td>\n",
       "      <td>1970</td>\n",
       "      <td>1</td>\n",
       "      <td>1</td>\n",
       "      <td>2877</td>\n",
       "      <td>0</td>\n",
       "      <td>BPM110KeyAModeMajorDanceability53Valence75Ener...</td>\n",
       "      <td>16</td>\n",
       "      <td>...</td>\n",
       "      <td>A</td>\n",
       "      <td>Major</td>\n",
       "      <td>53</td>\n",
       "      <td>75</td>\n",
       "      <td>69</td>\n",
       "      <td>7</td>\n",
       "      <td>0</td>\n",
       "      <td>17</td>\n",
       "      <td>3</td>\n",
       "      <td>BPM110KeyAModeMajorDanceability53Valence75Ener...</td>\n",
       "    </tr>\n",
       "  </tbody>\n",
       "</table>\n",
       "<p>1 rows × 25 columns</p>\n",
       "</div>"
      ],
      "text/plain": [
       "                              track_name     artist(s)_name  artist_count   \n",
       "574  Love Grows (Where My Rosemary Goes)  Edison Lighthouse             1  \\\n",
       "\n",
       "     released_year  released_month  released_day  in_spotify_playlists   \n",
       "574           1970               1             1                  2877  \\\n",
       "\n",
       "     in_spotify_charts                                            streams   \n",
       "574                  0  BPM110KeyAModeMajorDanceability53Valence75Ener...  \\\n",
       "\n",
       "     in_apple_playlists  ...  key   mode  danceability_% valence_%  energy_%   \n",
       "574                  16  ...    A  Major              53        75        69  \\\n",
       "\n",
       "    acousticness_% instrumentalness_%  liveness_%  speechiness_%   \n",
       "574              7                  0          17              3  \\\n",
       "\n",
       "                                        Reproducciones  \n",
       "574  BPM110KeyAModeMajorDanceability53Valence75Ener...  \n",
       "\n",
       "[1 rows x 25 columns]"
      ]
     },
     "execution_count": 7,
     "metadata": {},
     "output_type": "execute_result"
    }
   ],
   "source": [
    "#sptf.iloc[300]\n",
    "streams_num = sptf.streams.str.split(expand=True)\n",
    "sptf['Reproducciones'] = streams_num[0]\n",
    "sptf1 = sptf[['Reproducciones','track_name']]\n",
    "valor = str('BPM110KeyAModeMajorDanceability53Valence75Energy69Acousticness7Instrumentalness0Liveness17Speechiness3')\n",
    "sptf[sptf['Reproducciones'] == valor]"
   ]
  },
  {
   "cell_type": "code",
   "execution_count": 10,
   "id": "b9e6954a-2401-4fd1-99ac-545f0ec6e7e9",
   "metadata": {},
   "outputs": [
    {
     "data": {
      "text/plain": [
       "track_name              Love Grows (Where My Rosemary Goes)\n",
       "artist(s)_name                            Edison Lighthouse\n",
       "artist_count                                              1\n",
       "released_year                                          1970\n",
       "released_month                                            1\n",
       "released_day                                              1\n",
       "in_spotify_playlists                                   2877\n",
       "in_spotify_charts                                         0\n",
       "streams                                                 NaN\n",
       "in_apple_playlists                                       16\n",
       "in_apple_charts                                           0\n",
       "in_deezer_playlists                                      54\n",
       "in_deezer_charts                                          0\n",
       "in_shazam_charts                                          0\n",
       "bpm                                                     110\n",
       "key                                                       A\n",
       "mode                                                  Major\n",
       "danceability_%                                           53\n",
       "valence_%                                                75\n",
       "energy_%                                                 69\n",
       "acousticness_%                                            7\n",
       "instrumentalness_%                                        0\n",
       "liveness_%                                               17\n",
       "speechiness_%                                             3\n",
       "Name: 574, dtype: object"
      ]
     },
     "execution_count": 10,
     "metadata": {},
     "output_type": "execute_result"
    }
   ],
   "source": [
    "problem = data.loc[574]\n",
    "problem"
   ]
  },
  {
   "cell_type": "code",
   "execution_count": null,
   "id": "85adc0c2-117a-4277-862c-51d25c44eb28",
   "metadata": {},
   "outputs": [],
   "source": [
    "for value in sptf1['streams']:\n",
    "    print(value)"
   ]
  },
  {
   "cell_type": "code",
   "execution_count": null,
   "id": "109bdd87-3b5d-4e9b-9a81-396b466ccd6f",
   "metadata": {},
   "outputs": [],
   "source": [
    "data.drop([574],axis=0, inplace=True)\n"
   ]
  },
  {
   "cell_type": "code",
   "execution_count": null,
   "id": "4b00378c-b4a3-4873-b21f-7d8d0038ec41",
   "metadata": {},
   "outputs": [],
   "source": [
    "sptf['streamss'] = sptf['streams'].apply(lambda x : float(x))"
   ]
  },
  {
   "cell_type": "code",
   "execution_count": null,
   "metadata": {},
   "outputs": [
    {
     "data": {
      "text/plain": [
       "0      141.381703\n",
       "1      133.716286\n",
       "2      140.003974\n",
       "3      800.840817\n",
       "4      303.236322\n",
       "          ...    \n",
       "948     91.473363\n",
       "949    121.871870\n",
       "950     73.513683\n",
       "951    133.895612\n",
       "952     96.007391\n",
       "Name: ReproduccionesMillon, Length: 952, dtype: float64"
      ]
     },
     "execution_count": 28,
     "metadata": {},
     "output_type": "execute_result"
    }
   ],
   "source": [
    "sptf['ReproduccionesMillon'] = sptf['Reproducciones']/1000000\n",
    "sptf.ReproduccionesMillon"
   ]
  },
  {
   "cell_type": "code",
   "execution_count": 9,
   "id": "b70fa353-fd58-4c63-8b9f-b2701005341a",
   "metadata": {},
   "outputs": [
    {
     "name": "stdout",
     "output_type": "stream",
     "text": [
      "Moda:\n",
      " 0    1.563386e+08\n",
      "1    3.955914e+08\n",
      "2    7.238945e+08\n",
      "3    1.223481e+09\n",
      "Name: streams, dtype: float64\n",
      "Promedio de streams: 514137425.0\n",
      "Mediana: 290530915.0\n",
      "Pista con menos reproducciones: 2762.0\n",
      "Pista con mas reproducciones: 3703895074.0\n"
     ]
    }
   ],
   "source": [
    "moda = data.streams.mode()\n",
    "promedio = data.streams.mean().round(0)\n",
    "mediana = data.streams.median()\n",
    "menor = data.streams.min()\n",
    "mayor = data.streams.max()\n",
    "\n",
    "print('Moda:\\n',moda)\n",
    "print('Promedio de streams:', promedio)\n",
    "print('Mediana:',mediana)\n",
    "print('Pista con menos reproducciones:', menor)\n",
    "print('Pista con mas reproducciones:', mayor)"
   ]
  },
  {
   "cell_type": "code",
   "execution_count": null,
   "id": "419a5957-e7af-4aed-bcec-65f600ba9a9d",
   "metadata": {},
   "outputs": [
    {
     "data": {
      "text/plain": [
       "'BPM110KeyAModeMajorDanceability53Valence75Energy69Acousticness7Instrumentalness0Liveness17Speechiness3'"
      ]
     },
     "execution_count": 39,
     "metadata": {},
     "output_type": "execute_result"
    }
   ],
   "source": [
    "problem['Reproducciones']\n"
   ]
  },
  {
   "cell_type": "code",
   "execution_count": null,
   "id": "eb3625c7-7606-4a5e-8d43-d04841dd3bbb",
   "metadata": {},
   "outputs": [
    {
     "data": {
      "text/plain": [
       "52898"
      ]
     },
     "execution_count": 18,
     "metadata": {},
     "output_type": "execute_result"
    }
   ],
   "source": [
    "sptf['in_spotify_playlists'].max()\n"
   ]
  },
  {
   "cell_type": "code",
   "execution_count": null,
   "id": "66807af0-7450-42c9-9723-25cfe8f8315d",
   "metadata": {},
   "outputs": [
    {
     "data": {
      "text/plain": [
       "pandas.core.series.Series"
      ]
     },
     "execution_count": 20,
     "metadata": {},
     "output_type": "execute_result"
    }
   ],
   "source": [
    "type(problem)"
   ]
  },
  {
   "cell_type": "code",
   "execution_count": null,
   "id": "ae33efba-81ab-496e-a752-b01f86468e87",
   "metadata": {},
   "outputs": [],
   "source": []
  }
 ],
 "metadata": {
  "kernelspec": {
   "display_name": "Python 3 (ipykernel)",
   "language": "python",
   "name": "python3"
  },
  "language_info": {
   "codemirror_mode": {
    "name": "ipython",
    "version": 3
   },
   "file_extension": ".py",
   "mimetype": "text/x-python",
   "name": "python",
   "nbconvert_exporter": "python",
   "pygments_lexer": "ipython3",
   "version": "3.11.3"
  }
 },
 "nbformat": 4,
 "nbformat_minor": 5
}
